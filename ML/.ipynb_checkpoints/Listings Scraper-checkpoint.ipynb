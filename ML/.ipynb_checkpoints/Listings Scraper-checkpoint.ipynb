{
 "cells": [
  {
   "cell_type": "code",
   "execution_count": 2,
   "metadata": {},
   "outputs": [],
   "source": [
    "# check chrome driver\n",
    "from selenium import webdriver\n",
    "import chromedriver_autoinstaller\n",
    "\n",
    "chromedriver_autoinstaller.install()\n",
    "driver = webdriver.Chrome()\n",
    "# driver.get(\"http://www.python.org\")\n",
    "# assert \"Python\" in driver.title"
   ]
  },
  {
   "cell_type": "code",
   "execution_count": 3,
   "metadata": {},
   "outputs": [
    {
     "ename": "AttributeError",
     "evalue": "'NoneType' object has no attribute 'attrs'",
     "output_type": "error",
     "traceback": [
      "\u001b[0;31m---------------------------------------------------------------------------\u001b[0m",
      "\u001b[0;31mAttributeError\u001b[0m                            Traceback (most recent call last)",
      "\u001b[0;32m<ipython-input-3-a681ae4ba053>\u001b[0m in \u001b[0;36m<module>\u001b[0;34m\u001b[0m\n\u001b[1;32m     19\u001b[0m \u001b[0;34m\u001b[0m\u001b[0m\n\u001b[1;32m     20\u001b[0m \u001b[0;32mif\u001b[0m \u001b[0m__name__\u001b[0m \u001b[0;34m==\u001b[0m \u001b[0;34m'__main__'\u001b[0m\u001b[0;34m:\u001b[0m\u001b[0;34m\u001b[0m\u001b[0;34m\u001b[0m\u001b[0m\n\u001b[0;32m---> 21\u001b[0;31m     \u001b[0mmain\u001b[0m\u001b[0;34m(\u001b[0m\u001b[0;34m)\u001b[0m\u001b[0;34m\u001b[0m\u001b[0;34m\u001b[0m\u001b[0m\n\u001b[0m",
      "\u001b[0;32m<ipython-input-3-a681ae4ba053>\u001b[0m in \u001b[0;36mmain\u001b[0;34m()\u001b[0m\n\u001b[1;32m     14\u001b[0m     \u001b[0mtime\u001b[0m\u001b[0;34m.\u001b[0m\u001b[0msleep\u001b[0m\u001b[0;34m(\u001b[0m\u001b[0;36m2\u001b[0m\u001b[0;34m)\u001b[0m\u001b[0;34m\u001b[0m\u001b[0;34m\u001b[0m\u001b[0m\n\u001b[1;32m     15\u001b[0m     \u001b[0msoup\u001b[0m \u001b[0;34m=\u001b[0m \u001b[0mBeautifulSoup\u001b[0m\u001b[0;34m(\u001b[0m\u001b[0mdriver\u001b[0m\u001b[0;34m.\u001b[0m\u001b[0mpage_source\u001b[0m\u001b[0;34m,\u001b[0m \u001b[0;34m\"lxml\"\u001b[0m\u001b[0;34m)\u001b[0m\u001b[0;34m\u001b[0m\u001b[0;34m\u001b[0m\u001b[0m\n\u001b[0;32m---> 16\u001b[0;31m     \u001b[0murl\u001b[0m \u001b[0;34m=\u001b[0m \u001b[0;34m(\u001b[0m\u001b[0msoup\u001b[0m\u001b[0;34m.\u001b[0m\u001b[0mfind\u001b[0m\u001b[0;34m(\u001b[0m\u001b[0;34m\"img\"\u001b[0m\u001b[0;34m,\u001b[0m \u001b[0;34m{\u001b[0m\u001b[0;34m\"data-veloute\"\u001b[0m\u001b[0;34m:\u001b[0m\u001b[0;34m\"map/GoogleMapStatic\"\u001b[0m\u001b[0;34m}\u001b[0m\u001b[0;34m)\u001b[0m\u001b[0;34m)\u001b[0m\u001b[0;34m.\u001b[0m\u001b[0mattrs\u001b[0m\u001b[0;34m[\u001b[0m\u001b[0;34m'src'\u001b[0m\u001b[0;34m]\u001b[0m\u001b[0;34m\u001b[0m\u001b[0;34m\u001b[0m\u001b[0m\n\u001b[0m\u001b[1;32m     17\u001b[0m     \u001b[0mparsed\u001b[0m \u001b[0;34m=\u001b[0m \u001b[0murlparse\u001b[0m\u001b[0;34m.\u001b[0m\u001b[0murlparse\u001b[0m\u001b[0;34m(\u001b[0m\u001b[0murl\u001b[0m\u001b[0;34m)\u001b[0m\u001b[0;34m\u001b[0m\u001b[0;34m\u001b[0m\u001b[0m\n\u001b[1;32m     18\u001b[0m     \u001b[0mprint\u001b[0m\u001b[0;34m(\u001b[0m\u001b[0mparse_qs\u001b[0m\u001b[0;34m(\u001b[0m\u001b[0mparsed\u001b[0m\u001b[0;34m.\u001b[0m\u001b[0mquery\u001b[0m\u001b[0;34m)\u001b[0m\u001b[0;34m[\u001b[0m\u001b[0;34m'center'\u001b[0m\u001b[0;34m]\u001b[0m\u001b[0;34m)\u001b[0m\u001b[0;34m\u001b[0m\u001b[0;34m\u001b[0m\u001b[0m\n",
      "\u001b[0;31mAttributeError\u001b[0m: 'NoneType' object has no attribute 'attrs'"
     ]
    }
   ],
   "source": [
    "# from selenium import webdriver\n",
    "\n",
    "from selenium.webdriver.chrome.options import Options \n",
    "import time\n",
    "from bs4 import BeautifulSoup\n",
    "import urllib.parse as urlparse\n",
    "from urllib.parse import parse_qs\n",
    "\n",
    "def main():\n",
    "    chrome_options = Options()  \n",
    "    chrome_options.add_argument(\"--headless\")  #if you don't want the GUI to pop up\n",
    "    driver = webdriver.Chrome(options=chrome_options)\n",
    "    driver.get('https://www.airbnb.com/rooms/45825260')\n",
    "    time.sleep(2)\n",
    "    soup = BeautifulSoup(driver.page_source, \"lxml\")\n",
    "    url = (soup.find(\"img\", {\"data-veloute\":\"map/GoogleMapStatic\"})).attrs['src']\n",
    "    parsed = urlparse.urlparse(url)\n",
    "    print(parse_qs(parsed.query)['center'])\n",
    "\n",
    "if __name__ == '__main__':\n",
    "    main()"
   ]
  },
  {
   "cell_type": "code",
   "execution_count": 28,
   "metadata": {},
   "outputs": [],
   "source": [
    "chrome_options = Options()  \n",
    "chrome_options.add_argument(\"--headless\")  #if you don't want the GUI to pop up\n",
    "driver = webdriver.Chrome(options=chrome_options)\n",
    "driver.get('https://www.airbnb.com/rooms/45825260')\n",
    "time.sleep(2)\n",
    "soup = BeautifulSoup(driver.page_source, \"lxml\")\n",
    "# url = soup.find('div',attr={'class':'_1thttcj'})   #find(\"img\", {\"data-veloute\":\"map/GoogleMapStatic\"})).attrs['src']\n",
    "url = soup.find(\"img\", {\"data-veloute\":\"map/markers/BaseCircleMarker\"})#.attrs['src']\n",
    "parsed = urlparse.urlparse(url)\n",
    "# print(parse_qs(parsed.query)['center'])"
   ]
  },
  {
   "cell_type": "code",
   "execution_count": 30,
   "metadata": {},
   "outputs": [
    {
     "name": "stdout",
     "output_type": "stream",
     "text": [
      "{}\n"
     ]
    }
   ],
   "source": [
    "parsed\n",
    "print(parse_qs(parsed.query))"
   ]
  },
  {
   "cell_type": "code",
   "execution_count": 34,
   "metadata": {
    "scrolled": false
   },
   "outputs": [
    {
     "data": {
      "text/plain": [
       "<div class=\"_zcn96s\"><div class=\"_ugxysi\"><div data-plugin-in-point-id=\"TITLE_DEFAULT\" data-section-id=\"TITLE_DEFAULT\" style=\"padding-top: 24px;\"><section><div class=\"_e296pg\"><div class=\"_mbmcsn\"><h1 class=\"_14i3z6h\" tabindex=\"-1\">SkyView Top Studio</h1></div><div class=\"_abi9lj\"><span class=\"_10pmr93\"><span class=\"_1fwtdr4\"><span aria-hidden=\"true\" class=\"_8tbpu3\">󰀄</span></span><span class=\"_nu65sd\"><button aria-label=\"Rated 5.0 out of 5 from 11 reviews.\" class=\"_z75ovys\" tabindex=\"-1\" type=\"button\"><span class=\"_1jpdmc0\">5.0</span><span class=\"_1sqnphj\">(11)</span></button></span></span><span aria-hidden=\"true\" class=\"_1b6csz8\">·</span><span class=\"_10pmr93\"><span class=\"_1fwtdr4\"><span aria-hidden=\"true\" class=\"_8tbpu3\">󰀃</span></span><span class=\"_nu65sd\"><span aria-hidden=\"false\">Superhost</span></span></span><span aria-hidden=\"true\" class=\"_1b6csz8\">·</span><span class=\"_10pmr93\"><span class=\"_13myk77s\"><a class=\"_5twioja\" href=\"/rooms/45825260/location?source_impression_id=p3_1607684230_WqFFbgVi8Wu0gK%2Bm\">Nairobi, Nairobi County, Kenya</a></span></span></div><div class=\"_gmaj6l\"><div class=\"_xluqb9\"><div class=\"_1jdtwz4\"><div class=\"_c2acbp\"><button class=\"_pwwc4sq\" type=\"button\"><div class=\"_5kaapu\"><span class=\"_14tkmhr\"><svg aria-hidden=\"true\" focusable=\"false\" role=\"presentation\" style=\"display: block; fill: none; height: 16px; width: 16px; stroke: currentcolor; stroke-width: 2; overflow: visible;\" viewbox=\"0 0 32 32\" xmlns=\"http://www.w3.org/2000/svg\"><g fill=\"none\"><path d=\"M27 18v9a2 2 0 0 1-2 2H7a2 2 0 0 1-2-2v-9\"></path><path d=\"M16 3v23V3z\"></path><path d=\"M6 13l9.293-9.293a1 1 0 0 1 1.414 0L26 13\"></path></g></svg></span>Share</div></button></div><div><button class=\"_pwwc4sq\" data-testid=\"pdp-save-button-unsaved\" type=\"button\"><div class=\"_5kaapu\"><span class=\"_14tkmhr\"><svg aria-hidden=\"true\" focusable=\"false\" role=\"presentation\" style=\"display: block; fill: none; height: 16px; width: 16px; stroke: currentcolor; stroke-width: 2; overflow: visible;\" viewbox=\"0 0 32 32\" xmlns=\"http://www.w3.org/2000/svg\"><path d=\"m16 28c7-4.733 14-10 14-17 0-1.792-.683-3.583-2.05-4.95-1.367-1.366-3.158-2.05-4.95-2.05-1.791 0-3.583.684-4.949 2.05l-2.051 2.051-2.05-2.051c-1.367-1.366-3.158-2.05-4.95-2.05-1.791 0-3.583.684-4.949 2.05-1.367 1.367-2.051 3.158-2.051 4.95 0 7 7 12.267 14 17z\"></path></svg></span>Save</div></button></div></div></div></div></div></section></div></div></div>"
      ]
     },
     "execution_count": 34,
     "metadata": {},
     "output_type": "execute_result"
    }
   ],
   "source": [
    "url = soup.find('div',attrs={'class':'_zcn96s'})\n",
    "url"
   ]
  },
  {
   "cell_type": "code",
   "execution_count": 10,
   "metadata": {},
   "outputs": [],
   "source": [
    "import requests,re"
   ]
  },
  {
   "cell_type": "code",
   "execution_count": 13,
   "metadata": {},
   "outputs": [
    {
     "name": "stdout",
     "output_type": "stream",
     "text": [
      "[] []\n"
     ]
    }
   ],
   "source": [
    "r = requests.get('https://www.airbnb.com/rooms/45825260')\n",
    "p_lat = re.compile(r'\"lat\":([-0-9.]+),')\n",
    "p_lng = re.compile(r'\"lng\":([-0-9.]+),')\n",
    "lat = p_lat.findall(r.text)\n",
    "lng = p_lng.findall(r.text)\n",
    "print(lat,lng)"
   ]
  },
  {
   "cell_type": "code",
   "execution_count": 12,
   "metadata": {},
   "outputs": [
    {
     "data": {
      "text/plain": [
       "re.compile(r'\"lat\":([-0-9.]+),', re.UNICODE)"
      ]
     },
     "execution_count": 12,
     "metadata": {},
     "output_type": "execute_result"
    }
   ],
   "source": [
    "p_lat"
   ]
  },
  {
   "cell_type": "code",
   "execution_count": 35,
   "metadata": {
    "scrolled": true
   },
   "outputs": [],
   "source": [
    "# r.text"
   ]
  },
  {
   "cell_type": "code",
   "execution_count": null,
   "metadata": {},
   "outputs": [],
   "source": [
    "# with"
   ]
  }
 ],
 "metadata": {
  "kernelspec": {
   "display_name": "Python 3",
   "language": "python",
   "name": "python3"
  },
  "language_info": {
   "codemirror_mode": {
    "name": "ipython",
    "version": 3
   },
   "file_extension": ".py",
   "mimetype": "text/x-python",
   "name": "python",
   "nbconvert_exporter": "python",
   "pygments_lexer": "ipython3",
   "version": "3.8.3"
  }
 },
 "nbformat": 4,
 "nbformat_minor": 4
}
