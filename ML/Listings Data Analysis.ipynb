{
 "cells": [
  {
   "cell_type": "markdown",
   "metadata": {},
   "source": [
    "### Introduction\n",
    "This is an exploratory analysis notebook for airbnb listings in Nairobi. \n",
    "The data is scraped from airbnb's website.\n"
   ]
  },
  {
   "cell_type": "markdown",
   "metadata": {},
   "source": [
    "### Load Modules"
   ]
  },
  {
   "cell_type": "code",
   "execution_count": null,
   "metadata": {},
   "outputs": [],
   "source": [
    "# load modules\n",
    "import sys\n",
    "import pandas as pd\n",
    "import numpy as np\n",
    "import matplotlib as mpl\n",
    "import matplotlib.pyplot as plt\n",
    "import seaborn as sns\n",
    "import pickle\n",
    "%matplotlib inline\n",
    "\n",
    "from sklearn.ensemble import RandomForestRegressor, GradientBoostingRegressor\n",
    "from sklearn.tree import DecisionTreeRegressor\n",
    "from sklearn.neighbors import KNeighborsRegressor\n",
    "from sklearn.svm import SVR\n",
    "from sklearn.linear_model import LinearRegression, Ridge, Lasso\n",
    "import xgboost\n",
    "from sklearn.model_selection import train_test_split\n",
    "from sklearn.metrics import mean_squared_error\n",
    "# from sklearn.preprocessing import StandardScaler\n",
    "from sklearn.preprocessing import MinMaxScaler\n",
    "\n",
    "# check version\n",
    "print('Python: {}'.format(sys.version))\n",
    "print('Pandas: {}'.format(pd.__version__))\n",
    "print('Numpy: {}'.format(np.__version__))\n",
    "print('Matplotlib: {}'.format(mpl.__version__))\n",
    "print('Seaborn: {}'.format(sns.__version__))"
   ]
  },
  {
   "cell_type": "markdown",
   "metadata": {},
   "source": [
    "### 1. Load Data"
   ]
  },
  {
   "cell_type": "code",
   "execution_count": null,
   "metadata": {},
   "outputs": [],
   "source": [
    "# load data\n",
    "listings = pd.read_json('../data/listings.json')"
   ]
  },
  {
   "cell_type": "code",
   "execution_count": null,
   "metadata": {},
   "outputs": [],
   "source": [
    "listings.info()"
   ]
  },
  {
   "cell_type": "markdown",
   "metadata": {},
   "source": [
    "The dataset has 280 apartment listings"
   ]
  },
  {
   "cell_type": "code",
   "execution_count": null,
   "metadata": {},
   "outputs": [],
   "source": [
    "listings.head()"
   ]
  },
  {
   "cell_type": "markdown",
   "metadata": {},
   "source": [
    "### 2. Data Cleaning"
   ]
  },
  {
   "cell_type": "code",
   "execution_count": null,
   "metadata": {},
   "outputs": [],
   "source": [
    "# replace specific values\n",
    "listings.at[31,'details']= ['2 guests', '1 bedroom','1 bed', '1 bath', 'Wifi']\n",
    "listings.at[73,'details'] = ['2 guests', '1 bedroom','1 bed', '1 bath', 'Wifi','Kitchen']\n",
    "listings.at[230,'details'] = ['2 guests', 'Studio','1 bed', '1 bath', 'Wifi','Kitchen','Free parking']\n",
    "listings.at[260,'details'] = ['1 guest', '1 bedroom','1 bed', '1 shared bath', 'Wifi','Kitchen','Free parking']\n",
    "listings.at[104,'details'] = ['2 guests', 'Studio', '2 beds', '1 bath', 'Wifi','','Free parking']\n",
    "listings.at[106,'details'] = ['2 guests', '1 bedroom', '1 bed', '1 bath', 'Wifi','', 'Free parking']\n",
    "listings.at[169,'details'] = ['2 guests', '1 bedroom', '1 bed', '1 bath', 'Wifi','', 'Free parking']\n",
    "listings.at[271,'details'] = ['2 guests', 'Studio', '1 bed', '1 bath', 'Wifi','', 'Free parking']\n",
    "listings.at[278,'details'] = ['2 guests', 'Studio', '1 bed', '1 bath', 'Wifi','', 'Free parking']"
   ]
  },
  {
   "cell_type": "code",
   "execution_count": null,
   "metadata": {},
   "outputs": [],
   "source": [
    "# check total number of amenities offered\n",
    "listings['total_amenities'] = listings['details'].apply(len)\n",
    "\n",
    "# cleanup\n",
    "listings[['guests','bedrooms','beds','baths','wifi','kitchen','parking','pool']] = listings['details'].apply(pd.Series)\n",
    "listings['price($)'] = listings['price'].apply(pd.Series)\n",
    "listings['rating'] = listings['review_score'].apply(pd.Series)\n",
    "listings[['x','reviews','y']] = listings['total_reviews'].apply(pd.Series)\n",
    "listings['price($)'] = listings['price($)'].str.replace('$','')\n",
    "listings['price($)'] = listings['price($)'].astype(int)\n",
    "listings['is_superhost'] = np.where(listings['is_superhost']=='SUPERHOST','yes','no')\n",
    "listings = listings.drop(['x','y'],axis=1)\n",
    "listings['rating'] = np.where(listings['rating'].isna(),0,listings['rating'])\n",
    "listings['reviews'] = np.where(listings['reviews'].isna(),0,listings['reviews'])\n",
    "\n",
    "# cleanup\n",
    "listings['guests'] = listings['guests'].str.replace(' guests| guest', '')\n",
    "listings['bedrooms'] = listings['bedrooms'].str.replace(' bedrooms| bedroom','')\n",
    "listings['beds'] = listings['beds'].str.replace(' beds|bed','')\n",
    "listings['bedrooms'] = listings['bedrooms'].str.replace('Studio','0')\n",
    "listings['baths'] = listings['baths'].str.replace(' baths| bath','')\n",
    "listings['baths'] = listings['baths'].str.replace('Half-bath','0.5')\n",
    "listings['shared_bath'] = np.where(listings['baths'].str.contains('shared'),'yes','no')\n",
    "listings['baths'] = listings['baths'].str.replace(' shared| private','')\n",
    "listings['wifi'] = np.where(listings['wifi']=='Wifi','yes','no')\n",
    "listings['kitchen'] = np.where(listings['kitchen']=='Kitchen','yes','no')\n",
    "listings['parking'] = np.where(listings['parking']=='Free parking','yes','no')\n",
    "listings['pool'] = np.where(listings['pool']=='Pool','yes','no')\n"
   ]
  },
  {
   "cell_type": "code",
   "execution_count": null,
   "metadata": {},
   "outputs": [],
   "source": [
    "# select clean columns\n",
    "clean_cols = ['title','description','is_superhost','guests',\n",
    " 'bedrooms','beds','baths','wifi','kitchen','parking','pool',\n",
    " 'price($)','rating','reviews','shared_bath']\n",
    "listings_clean = listings[clean_cols]\n",
    "listings_clean.head()"
   ]
  },
  {
   "cell_type": "code",
   "execution_count": null,
   "metadata": {},
   "outputs": [],
   "source": [
    "# prices overview\n",
    "listings_clean['price($)'].describe()"
   ]
  },
  {
   "cell_type": "code",
   "execution_count": null,
   "metadata": {},
   "outputs": [],
   "source": [
    "# plot price distribution\n",
    "price_distribution = pd.DataFrame(listings_clean['price($)'].value_counts().reset_index())\n",
    "price_distribution.columns =['price','total']\n",
    "price_distribution = price_distribution.sort_values(by='price',ascending=True)\n",
    "fig,ax = plt.subplots(figsize=(10,6))\n",
    "# price_distribution.plot(kind='scatter',ax=ax)\n",
    "sns.scatterplot(x='price', y='total',\n",
    "            ci=None,\n",
    "            palette=\"Blues_d\",\n",
    "#             orient='v',\n",
    "            data=price_distribution)\n",
    "ax.set_xlabel('Price ($)')\n",
    "ax.set_ylabel('Number of Apartments')\n",
    "plt.title('Price Distribution for Arbnb Apartments in Nairobi')\n",
    "plt.show()"
   ]
  },
  {
   "cell_type": "markdown",
   "metadata": {},
   "source": [
    "- Most apartments cost between \\\\$20 \\& \\$30 per night\n",
    "- There are few apartments that cost more than \\\\$80 per night"
   ]
  },
  {
   "cell_type": "code",
   "execution_count": null,
   "metadata": {},
   "outputs": [],
   "source": [
    "# distribution by bedrooms\n",
    "bedrooms_distribution = listings_clean['bedrooms'].value_counts().reset_index()\n",
    "bedrooms_distribution.columns = ['bedrooms','total']\n",
    "fig,ax=plt.subplots(figsize=(8,4))\n",
    "sns.barplot(x='bedrooms',y='total',order=['0','1','2','3'],data=bedrooms_distribution)\n",
    "\n",
    "ax.set_xlabel('Number of Bedrooms')\n",
    "ax.set_ylabel('Number of Apartments')\n",
    "plt.title('Bedrooms Distribution for Airbnb Apartments')\n",
    "plt.show()"
   ]
  },
  {
   "cell_type": "markdown",
   "metadata": {},
   "source": [
    "- One bedroom apartments are the most popular"
   ]
  },
  {
   "cell_type": "code",
   "execution_count": null,
   "metadata": {},
   "outputs": [],
   "source": [
    "# distribution by bedrooms\n",
    "rating_distribution = listings_clean['rating'].value_counts().reset_index()\n",
    "rating_distribution.columns = ['rating','total']\n",
    "rating_distribution['rating'] = rating_distribution['rating'].astype(float)\n",
    "rating_distribution = rating_distribution[rating_distribution['rating']>0]\n",
    "fig,ax=plt.subplots(figsize=(8,4))\n",
    "sns.scatterplot(x='rating',y='total',data=rating_distribution)\n",
    "\n",
    "ax.set_xlabel('Rating')\n",
    "ax.set_ylabel('Number of Apartments')\n",
    "plt.title('Rating Distribution for Airbnb Apartments')\n",
    "plt.show()"
   ]
  },
  {
   "cell_type": "markdown",
   "metadata": {},
   "source": [
    "Customers are generally happy wih their hosts"
   ]
  },
  {
   "cell_type": "code",
   "execution_count": null,
   "metadata": {},
   "outputs": [],
   "source": [
    "# let's check average prices per bedrooms\n",
    "avg_price_per_bedroom = listings_clean.groupby('bedrooms')['price($)'].mean().rename('price').reset_index()\n",
    "\n",
    "fig,ax=plt.subplots(figsize=(8,4))\n",
    "sns.barplot(x='bedrooms',y='price',palette='Blues_d',order=['0','1','2','3'],data=avg_price_per_bedroom)\n",
    "\n",
    "ax.set_xlabel('Number of Bedrooms')\n",
    "ax.set_ylabel('Price ($)')\n",
    "plt.title('Average Price per Bedroom')\n",
    "plt.show()"
   ]
  },
  {
   "cell_type": "markdown",
   "metadata": {},
   "source": [
    "- As expected, average prices increase with the number of bedrooms"
   ]
  },
  {
   "cell_type": "code",
   "execution_count": null,
   "metadata": {},
   "outputs": [],
   "source": [
    "rating_greater_than_zero = listings_clean.copy()\n",
    "rating_greater_than_zero['rating'] = rating_greater_than_zero['rating'].astype(float)\n",
    "rating_greater_than_zero = rating_greater_than_zero[rating_greater_than_zero['rating']>0]\n",
    "\n",
    "rating_distribution = rating_greater_than_zero.groupby('rating')['price($)'].mean().rename('price').reset_index()\n",
    "\n",
    "fig,ax = plt.subplots(figsize=(8,4))\n",
    "sns.scatterplot(x='rating',y='price',data=rating_distribution)\n",
    "ax.set_xlabel('Rating')\n",
    "ax.set_ylabel('Mean Price ($)')\n",
    "plt.title('Price Distribution by Rating Scores')\n",
    "\n",
    "plt.show()"
   ]
  },
  {
   "cell_type": "code",
   "execution_count": null,
   "metadata": {},
   "outputs": [],
   "source": [
    "rating_greater_than_zero['reviews'] = rating_greater_than_zero['reviews'].astype(int)\n",
    "reviews_summary = rating_greater_than_zero.groupby('bedrooms')['reviews'].sum().rename('total').reset_index()\n",
    "\n",
    "fig,ax=plt.subplots(figsize=(8,4))\n",
    "sns.barplot(x='bedrooms',y='total',palette='Blues_d',order=['0','1','2','3'],data=reviews_summary)\n",
    "\n",
    "ax.set_xlabel('Number of Bedrooms')\n",
    "ax.set_ylabel('Total Reviews')\n",
    "plt.title('Number of Reviews per Bedroom')\n",
    "plt.show()"
   ]
  },
  {
   "cell_type": "code",
   "execution_count": null,
   "metadata": {},
   "outputs": [],
   "source": [
    "listings_clean.rename(columns={'price($)':'price'},inplace=True)"
   ]
  },
  {
   "cell_type": "code",
   "execution_count": null,
   "metadata": {},
   "outputs": [],
   "source": [
    "listings_clean.head()"
   ]
  },
  {
   "cell_type": "code",
   "execution_count": null,
   "metadata": {},
   "outputs": [],
   "source": [
    "listings_final = listings_clean.drop(['title','description'],axis=1)\n",
    "listings_final['reviews'] = listings_final['reviews'].astype(int)\n",
    "listings_final['rating'] = listings_final['rating'].astype(float)\n",
    "listings_final['guests'] = listings_final['guests'].astype(int)\n",
    "listings_final['baths'] = listings_final['baths'].astype(float)\n",
    "listings_final['bedrooms'] = listings_final['bedrooms'].astype(int)\n",
    "listings_final['beds'] = listings_final['beds'].astype(int)\n",
    "listings_final.head()"
   ]
  },
  {
   "cell_type": "code",
   "execution_count": null,
   "metadata": {},
   "outputs": [],
   "source": [
    "listings_final.describe()"
   ]
  },
  {
   "cell_type": "code",
   "execution_count": null,
   "metadata": {},
   "outputs": [],
   "source": [
    "# plot summary for int values\n",
    "listings_final.plot(kind='box', subplots=True,layout=(2,4),\n",
    "                    sharex=False,sharey=False, figsize=(12,6))\n",
    "plt.show()"
   ]
  },
  {
   "cell_type": "code",
   "execution_count": null,
   "metadata": {},
   "outputs": [],
   "source": [
    "# fig,ax = plt.subplots(figsize=(12,6))\n",
    "listings_final.hist(figsize=(12,6))\n",
    "plt.show()"
   ]
  },
  {
   "cell_type": "code",
   "execution_count": null,
   "metadata": {},
   "outputs": [],
   "source": [
    "# # scale listings data\n",
    "# listings_final_scaled = listings_final.copy()\n",
    "\n",
    "# scaler_X = MinMaxScaler()\n",
    "# scaler_y = MinMaxScaler()\n",
    "\n",
    "# cols_to_scale = ['guests', 'bedrooms','beds', 'baths', 'rating', 'reviews']\n",
    "# listings_final_scaled[cols_to_scale] = scaler_X.fit_transform(listings_final_scaled[cols_to_scale])\n",
    "# listings_final_scaled['price'] = scaler_y.fit_transform(listings_final_scaled['price'])\n",
    "# listings_final_scaled.head()\n"
   ]
  },
  {
   "cell_type": "markdown",
   "metadata": {},
   "source": [
    "### One Hot Encoding\n",
    "In this section we prepare the data for machine learning"
   ]
  },
  {
   "cell_type": "code",
   "execution_count": null,
   "metadata": {},
   "outputs": [],
   "source": [
    "listings_ml = pd.get_dummies(listings_final)\n",
    "# listings_ml = listings_final.copy()\n",
    "# listings_ml['kitchen'] = np.where(listings_ml['kitchen']=='yes',1,0)\n",
    "# listings_ml['wifi'] = np.where(listings_ml['wifi']=='yes',1,0)\n",
    "# listings_ml['is_superhost'] = np.where(listings_ml['is_superhost']=='yes',1,0) \n",
    "# listings_ml['parking'] = np.where(listings_ml['parking']=='yes',1,0) \n",
    "# listings_ml['pool'] = np.where(listings_ml['pool']=='yes',1,0) \n",
    "# listings_ml['shared_bath'] = np.where(listings_ml['shared_bath']=='yes',1,0)\n",
    "listings_ml.head()"
   ]
  },
  {
   "cell_type": "markdown",
   "metadata": {},
   "source": [
    "###  Machine Learning\n",
    "- First we set aside 10% of our data for validation\n",
    "- Then we train different regression algorithms and compare their performance\n",
    "- We then choose the model with the best score"
   ]
  },
  {
   "cell_type": "code",
   "execution_count": null,
   "metadata": {},
   "outputs": [],
   "source": [
    "# split the data into training \n",
    "# & validation set\n",
    "\n",
    "# generate random indices\n",
    "val = 0.10\n",
    "len_dataset = len(listings_ml)\n",
    "val_indices = [x for x in np.random.randint(0, len_dataset,int(val*len_dataset))]\n",
    "# print(val_indices)\n",
    "\n",
    "# split the dataset based on indices\n",
    "validation = listings_ml.loc[listings_ml.index.isin(val_indices)]\n",
    "train = listings_ml.loc[~listings_ml.index.isin(val_indices)]\n",
    "print(\"Train Set: \",len(train),\"Test Set: \", len(validation))\n",
    "validation.head()"
   ]
  },
  {
   "cell_type": "code",
   "execution_count": null,
   "metadata": {},
   "outputs": [],
   "source": [
    "# validation set\n",
    "val_test = validation.drop('price',axis=1)\n",
    "val_actual = validation['price']\n",
    "\n",
    "# train data into train & test sets\n",
    "train = train.reset_index(drop=True)\n",
    "X = train.drop('price',axis=1)\n",
    "y = train['price']\n",
    "X_train,X_test,y_train,y_test = train_test_split(X,y,test_size=0.30,random_state=42)\n",
    "\n",
    "# scale_data\n",
    "# scaler = MinMaxScaler()\n",
    "# X_train_scaled = scaler.fit_transform(X_train)"
   ]
  },
  {
   "cell_type": "code",
   "execution_count": null,
   "metadata": {},
   "outputs": [],
   "source": [
    "# train rf model\n",
    "rf_model = RandomForestRegressor(n_estimators=2000,criterion='mse',verbose=0,max_leaf_nodes=25)\n",
    "rg_model = DecisionTreeRegressor(max_depth=5)\n",
    "svm_model = SVR()\n",
    "lasso_model = Lasso(alpha=1.0)\n",
    "ridge_model = Ridge(alpha=1.0)\n",
    "linear_model = LinearRegression()\n",
    "gbr_model = GradientBoostingRegressor(max_depth=3,n_estimators=1000,learning_rate=0.001)\n",
    "xgb_model = xgboost.XGBRegressor()\n",
    "neighbors_model = KNeighborsRegressor(n_neighbors=2)\n",
    "\n",
    "model_scores = []\n",
    "\n",
    "models = [rf_model, rg_model, svm_model,\n",
    "          lasso_model,ridge_model,linear_model,\n",
    "         gbr_model,xgb_model,neighbors_model]\n",
    "for model in models:\n",
    "#     print(model)\n",
    "    model_score = {}\n",
    "    model_score['Model'] = str(model).split('(')[0]\n",
    "    \n",
    "    fit_model = model.fit(X_train,y_train)            # fit model\n",
    "    \n",
    "#     X_test_scaled = scaler.transform(X_test)\n",
    "    y_pred = [round(x,0) for x in fit_model.predict(X_test)]     # test performance on test set\n",
    "    mse = round(mean_squared_error(y_pred,y_test),2)\n",
    "    rmse = round(mse**0.5,2)\n",
    "    model_score['test_mse']= mse\n",
    "    model_score['test_rmse']= rmse\n",
    "\n",
    "#     val_test_scaled = scaler.transform(val_test)\n",
    "    val_pred = model.predict(val_test)                 # test performance on validation set\n",
    "    mse_val = round(mean_squared_error(val_actual,val_pred),2)\n",
    "    rmse_val = round(mse_val**0.5,2)\n",
    "    model_score['validation_mse'] = mse_val\n",
    "    model_score['validation_rmse'] = rmse_val\n",
    "    \n",
    "    model_scores.append(model_score)                  # add model result to scores list\n",
    "\n",
    "    \n",
    "model_scores_df = pd.DataFrame(model_scores)\n",
    "# print(model_scores_df)\n",
    "model_scores_df = model_scores_df.sort_values(by='validation_rmse',ascending=True)\n",
    "model_scores_df"
   ]
  },
  {
   "cell_type": "code",
   "execution_count": null,
   "metadata": {
    "scrolled": false
   },
   "outputs": [],
   "source": [
    "# define labels & xticks\n",
    "labels = [x.split('Re')[0] for x in model_scores_df['Model']]\n",
    "x_ticks = [x for x in range(len(labels))]\n",
    "\n",
    "# plot model scores\n",
    "fig,ax = plt.subplots(figsize=(10,6))\n",
    "sns.barplot(x='Model', y='validation_rmse', data=model_scores_df,ax=ax)\n",
    "ax.set_xlabel('')\n",
    "plt.xticks(rotation=10,ticks=x_ticks,labels=labels)\n",
    "plt.show()"
   ]
  },
  {
   "cell_type": "code",
   "execution_count": null,
   "metadata": {},
   "outputs": [],
   "source": [
    "# make predictions using the model\n",
    "rf_model.fit(X,y)\n",
    "rg_model.fit(X,y)\n",
    "ridge_model.fit(X,y)\n",
    "neighbors_model.fit(X,y)\n",
    "linear_model.fit(X,y)\n",
    "rf_vals = [round(x,0) for x in rf_model.predict(val_test)]\n",
    "dt_vals = [round(x,0) for x in rg_model.predict(val_test)]\n",
    "rg_vals = [round(x,0) for x in ridge_model.predict(val_test)]\n",
    "kn_vals = [round(x,0) for x in neighbors_model.predict(val_test)]\n",
    "lnr_vals = [round(x,0) for x in linear_model.predict(val_test)]\n",
    "\n",
    "results_df = pd.DataFrame({'RandomForest': rf_vals,\n",
    "                           'DecisionTree': dt_vals,\n",
    "                           'Ridge': rg_vals,\n",
    "                           'Kneighbors': kn_vals,\n",
    "                           'Linear':lnr_vals,\n",
    "                           'actual': val_actual})\n",
    "results_df.head(10)"
   ]
  },
  {
   "cell_type": "code",
   "execution_count": null,
   "metadata": {},
   "outputs": [],
   "source": [
    "results_df.describe()"
   ]
  },
  {
   "cell_type": "code",
   "execution_count": null,
   "metadata": {
    "scrolled": false
   },
   "outputs": [],
   "source": [
    "# plot results for RF & DT models\n",
    "fig,ax=plt.subplots(figsize=(8,6))\n",
    "plt.plot(results_df['RandomForest'],val_test['reviews'],'go', label='RandomForest')\n",
    "plt.plot(results_df['DecisionTree'],val_test['reviews'],'bo', label='DecisionTree')\n",
    "plt.plot(results_df['actual'],val_test['reviews'],'ro', label = 'Actual')\n",
    "plt.title(\"Predicted Prices for Total Reviews\")\n",
    "plt.legend()\n",
    "plt.show()"
   ]
  },
  {
   "cell_type": "markdown",
   "metadata": {},
   "source": [
    "### Create Final Model: RandomForest Regression\n"
   ]
  },
  {
   "cell_type": "code",
   "execution_count": null,
   "metadata": {},
   "outputs": [],
   "source": [
    "# prepare the data\n",
    "X = listings_ml.drop('price',axis=1)\n",
    "y = listings_ml['price']\n",
    "\n",
    "# split the data\n",
    "X_train,X_test,y_train,y_test = train_test_split(X,y,test_size=0.20,random_state=42)\n",
    "# X_train.shape,X_test.shape,y_train.shape,y_test.shape\n",
    "\n",
    "scaler = MinMaxScaler()\n",
    "X_train_scaled = scaler.fit_transform(X_train)\n",
    "# X_train.to_csv('models/X_train_data.csv',index=False)\n",
    "\n",
    "# create model\n",
    "model = RandomForestRegressor(n_estimators=2000,criterion='mse',max_depth=5)\n",
    "# model = Ridge()\n",
    "model.fit(X_train_scaled,y_train)\n",
    "\n",
    "# save model\n",
    "pickle.dump(model,open('models/model_v1.pkl','wb'))\n",
    "\n",
    "# load model\n",
    "saved_model = pickle.load(open('models/model_v1.pkl','rb'))\n"
   ]
  },
  {
   "cell_type": "code",
   "execution_count": null,
   "metadata": {},
   "outputs": [],
   "source": [
    "X_test_scaled = scaler.transform(X_test)\n",
    "mse = round(mean_squared_error(saved_model.predict(X_test_scaled),y_test),1)\n",
    "rmse = round(mse**0.5,1)\n",
    "print('\\n',\"MSE: \", mse,'\\n',\"RMSE:\", rmse)"
   ]
  },
  {
   "cell_type": "code",
   "execution_count": null,
   "metadata": {},
   "outputs": [],
   "source": [
    "x_level = 10\n",
    "round(saved_model.predict(X_test_scaled)[x_level],0)"
   ]
  },
  {
   "cell_type": "code",
   "execution_count": null,
   "metadata": {},
   "outputs": [],
   "source": [
    "x_val = X_test[x_level:x_level+1]\n",
    "x_val"
   ]
  },
  {
   "cell_type": "code",
   "execution_count": null,
   "metadata": {
    "scrolled": false
   },
   "outputs": [],
   "source": [
    "y_test[x_level:x_level+1]"
   ]
  },
  {
   "cell_type": "code",
   "execution_count": null,
   "metadata": {},
   "outputs": [],
   "source": [
    "# linear regression features\n",
    "# important_features_dict = {}\n",
    "\n",
    "# model_coefficients = [x for x in saved_model.coef_]\n",
    "# model_columns = [x for x in X_train.columns]\n",
    "# linear_model_features = pd.DataFrame(list(zip(model_columns,model_coefficients)),columns=['feature','coef'])\n",
    "# linear_model_features['coef_abs'] = abs(linear_model_features['coef'])\n",
    "# linear_model_features = linear_model_features.sort_values(by='coef_abs',ascending=False)\n",
    "# linear_model_features.to_csv('models/feature_importances.csv',index=False)\n",
    "# linear_model_features"
   ]
  },
  {
   "cell_type": "code",
   "execution_count": null,
   "metadata": {},
   "outputs": [],
   "source": [
    "# randomforest regression\n",
    "# get feature importances\n",
    "\n",
    "important_features_dict = {}\n",
    "for x,i in enumerate(saved_model.feature_importances_):\n",
    "    important_features_dict[x]=i\n",
    "\n",
    "\n",
    "important_features_list = sorted(important_features_dict,\n",
    "                                 key=important_features_dict.get,\n",
    "                                 reverse=True)\n",
    "\n",
    "print('Most important features: %s' %important_features_list)"
   ]
  },
  {
   "cell_type": "code",
   "execution_count": null,
   "metadata": {},
   "outputs": [],
   "source": [
    "# # get feature names\n",
    "feature_names = [x for x in X_train.columns]\n",
    "\n",
    "# create feature importances df\n",
    "importances_df = pd.DataFrame(important_features_dict,index=[0]).melt().drop('variable',axis=1)\n",
    "importances_df.insert(loc=0,column='feature', value = feature_names)\n",
    "\n",
    "# save file\n",
    "importances_df.to_csv('models/feature_importances.csv',index=False)\n",
    "\n",
    "importances_df.sort_values(by='value',ascending=False)\n"
   ]
  },
  {
   "cell_type": "code",
   "execution_count": null,
   "metadata": {},
   "outputs": [],
   "source": []
  }
 ],
 "metadata": {
  "kernelspec": {
   "display_name": "Python 3",
   "language": "python",
   "name": "python3"
  },
  "language_info": {
   "codemirror_mode": {
    "name": "ipython",
    "version": 3
   },
   "file_extension": ".py",
   "mimetype": "text/x-python",
   "name": "python",
   "nbconvert_exporter": "python",
   "pygments_lexer": "ipython3",
   "version": "3.8.3"
  }
 },
 "nbformat": 4,
 "nbformat_minor": 4
}
