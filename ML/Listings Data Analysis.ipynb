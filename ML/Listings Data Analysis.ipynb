{
 "cells": [
  {
   "cell_type": "markdown",
   "metadata": {},
   "source": [
    "### Introduction\n",
    "This is an exploratory notebook for airbnb listings in Nairobi\n"
   ]
  },
  {
   "cell_type": "code",
   "execution_count": 211,
   "metadata": {},
   "outputs": [],
   "source": [
    "# load modules\n",
    "import pandas as pd\n",
    "import numpy as np\n",
    "import matplotlib as plt\n",
    "import seaborn as sns\n",
    "%matplotlib inline"
   ]
  },
  {
   "cell_type": "code",
   "execution_count": 212,
   "metadata": {},
   "outputs": [],
   "source": [
    "# load data\n",
    "listings = pd.read_json('../data/listings.json')"
   ]
  },
  {
   "cell_type": "code",
   "execution_count": 213,
   "metadata": {},
   "outputs": [
    {
     "name": "stdout",
     "output_type": "stream",
     "text": [
      "<class 'pandas.core.frame.DataFrame'>\n",
      "RangeIndex: 280 entries, 0 to 279\n",
      "Data columns (total 9 columns):\n",
      " #   Column         Non-Null Count  Dtype  \n",
      "---  ------         --------------  -----  \n",
      " 0   title          280 non-null    object \n",
      " 1   url            0 non-null      float64\n",
      " 2   info           0 non-null      float64\n",
      " 3   description    280 non-null    object \n",
      " 4   details        280 non-null    object \n",
      " 5   is_superhost   124 non-null    object \n",
      " 6   price          280 non-null    object \n",
      " 7   total_reviews  280 non-null    object \n",
      " 8   review_score   280 non-null    object \n",
      "dtypes: float64(2), object(7)\n",
      "memory usage: 19.8+ KB\n"
     ]
    }
   ],
   "source": [
    "listings.info()"
   ]
  },
  {
   "cell_type": "code",
   "execution_count": 214,
   "metadata": {},
   "outputs": [
    {
     "data": {
      "text/html": [
       "<div>\n",
       "<style scoped>\n",
       "    .dataframe tbody tr th:only-of-type {\n",
       "        vertical-align: middle;\n",
       "    }\n",
       "\n",
       "    .dataframe tbody tr th {\n",
       "        vertical-align: top;\n",
       "    }\n",
       "\n",
       "    .dataframe thead th {\n",
       "        text-align: right;\n",
       "    }\n",
       "</style>\n",
       "<table border=\"1\" class=\"dataframe\">\n",
       "  <thead>\n",
       "    <tr style=\"text-align: right;\">\n",
       "      <th></th>\n",
       "      <th>title</th>\n",
       "      <th>url</th>\n",
       "      <th>info</th>\n",
       "      <th>description</th>\n",
       "      <th>details</th>\n",
       "      <th>is_superhost</th>\n",
       "      <th>price</th>\n",
       "      <th>total_reviews</th>\n",
       "      <th>review_score</th>\n",
       "    </tr>\n",
       "  </thead>\n",
       "  <tbody>\n",
       "    <tr>\n",
       "      <th>0</th>\n",
       "      <td>Entire apartment in Nairobi</td>\n",
       "      <td>NaN</td>\n",
       "      <td>NaN</td>\n",
       "      <td>Cozy 2 bedroom near popular restaurant</td>\n",
       "      <td>[4 guests, 2 bedrooms, 3 beds, 2.5 baths, Wifi...</td>\n",
       "      <td>SUPERHOST</td>\n",
       "      <td>[$52]</td>\n",
       "      <td>[]</td>\n",
       "      <td>[]</td>\n",
       "    </tr>\n",
       "    <tr>\n",
       "      <th>1</th>\n",
       "      <td>Entire apartment in Nairobi</td>\n",
       "      <td>NaN</td>\n",
       "      <td>NaN</td>\n",
       "      <td>Brookview Kilimani 1 Bedroom (Monthly)</td>\n",
       "      <td>[2 guests, 1 bedroom, 1 bed, 1 bath, Wifi, Kit...</td>\n",
       "      <td>SUPERHOST</td>\n",
       "      <td>[$22]</td>\n",
       "      <td>[]</td>\n",
       "      <td>[]</td>\n",
       "    </tr>\n",
       "    <tr>\n",
       "      <th>2</th>\n",
       "      <td>Entire guesthouse in Nairobi</td>\n",
       "      <td>NaN</td>\n",
       "      <td>NaN</td>\n",
       "      <td>Kileleshwa, 1 bedroom private cottage</td>\n",
       "      <td>[2 guests, 1 bedroom, 2 beds, 1 bath, Wifi, Ki...</td>\n",
       "      <td>None</td>\n",
       "      <td>[$10]</td>\n",
       "      <td>[ (, 5, )]</td>\n",
       "      <td>[5.0]</td>\n",
       "    </tr>\n",
       "    <tr>\n",
       "      <th>3</th>\n",
       "      <td>Entire apartment in Nairobi</td>\n",
       "      <td>NaN</td>\n",
       "      <td>NaN</td>\n",
       "      <td>Cozy studio with CBD view, Netflix + rooftop pool</td>\n",
       "      <td>[2 guests, Studio, 1 bed, 1 bath, Wifi, Kitche...</td>\n",
       "      <td>None</td>\n",
       "      <td>[$25]</td>\n",
       "      <td>[ (, 33, )]</td>\n",
       "      <td>[4.64]</td>\n",
       "    </tr>\n",
       "    <tr>\n",
       "      <th>4</th>\n",
       "      <td>Entire apartment in Nairobi</td>\n",
       "      <td>NaN</td>\n",
       "      <td>NaN</td>\n",
       "      <td>SkyView Top Studio</td>\n",
       "      <td>[2 guests, Studio, 1 bed, 1 bath, Wifi, Kitche...</td>\n",
       "      <td>SUPERHOST</td>\n",
       "      <td>[$25]</td>\n",
       "      <td>[ (, 11, )]</td>\n",
       "      <td>[5.0]</td>\n",
       "    </tr>\n",
       "  </tbody>\n",
       "</table>\n",
       "</div>"
      ],
      "text/plain": [
       "                          title  url  info  \\\n",
       "0   Entire apartment in Nairobi  NaN   NaN   \n",
       "1   Entire apartment in Nairobi  NaN   NaN   \n",
       "2  Entire guesthouse in Nairobi  NaN   NaN   \n",
       "3   Entire apartment in Nairobi  NaN   NaN   \n",
       "4   Entire apartment in Nairobi  NaN   NaN   \n",
       "\n",
       "                                         description  \\\n",
       "0             Cozy 2 bedroom near popular restaurant   \n",
       "1             Brookview Kilimani 1 Bedroom (Monthly)   \n",
       "2              Kileleshwa, 1 bedroom private cottage   \n",
       "3  Cozy studio with CBD view, Netflix + rooftop pool   \n",
       "4                                 SkyView Top Studio   \n",
       "\n",
       "                                             details is_superhost  price  \\\n",
       "0  [4 guests, 2 bedrooms, 3 beds, 2.5 baths, Wifi...    SUPERHOST  [$52]   \n",
       "1  [2 guests, 1 bedroom, 1 bed, 1 bath, Wifi, Kit...    SUPERHOST  [$22]   \n",
       "2  [2 guests, 1 bedroom, 2 beds, 1 bath, Wifi, Ki...         None  [$10]   \n",
       "3  [2 guests, Studio, 1 bed, 1 bath, Wifi, Kitche...         None  [$25]   \n",
       "4  [2 guests, Studio, 1 bed, 1 bath, Wifi, Kitche...    SUPERHOST  [$25]   \n",
       "\n",
       "  total_reviews review_score  \n",
       "0            []           []  \n",
       "1            []           []  \n",
       "2    [ (, 5, )]        [5.0]  \n",
       "3   [ (, 33, )]       [4.64]  \n",
       "4   [ (, 11, )]        [5.0]  "
      ]
     },
     "execution_count": 214,
     "metadata": {},
     "output_type": "execute_result"
    }
   ],
   "source": [
    "listings.head()"
   ]
  },
  {
   "cell_type": "code",
   "execution_count": 215,
   "metadata": {},
   "outputs": [],
   "source": [
    "# replace specific values\n",
    "# indices = [31,73,230,260]\n",
    "\n",
    "listings.at[31,'details']= ['2 guests', '1 bedroom','1 bed', '1 bath', 'Wifi']\n",
    "listings.at[73,'details'] = ['2 guests', '1 bedroom','1 bed', '1 bath', 'Wifi','Kitchen']\n",
    "listings.at[230,'details'] = ['2 guests', 'Studio','1 bed', '1 bath', 'Wifi','Kitchen','Free parking']\n",
    "listings.at[260,'details'] = ['1 guest', '1 bedroom','1 bed', '1 shared bath', 'Wifi','Kitchen','Free parking']"
   ]
  },
  {
   "cell_type": "code",
   "execution_count": 217,
   "metadata": {},
   "outputs": [],
   "source": [
    "## check total number of amenities offered\n",
    "listings['total_amenities'] = listings['details'].apply(len)\n",
    "listings[['guests','bedrooms','beds','baths','wifi','kitchen','parking','pool']] = listings['details'].apply(pd.Series)\n",
    "listings['price($)'] = listings['price'].apply(pd.Series)\n",
    "listings['rating'] = listings['review_score'].apply(pd.Series)\n",
    "listings[['x','reviews','y']] = listings['total_reviews'].apply(pd.Series)\n",
    "listings['price($)'] = listings['price($)'].str.replace('$','')\n",
    "listings['price($)'] = listings['price($)'].astype(int)\n",
    "listings['is_superhost'] = np.where(listings['is_superhost']=='SUPERHOST','yes','no')\n",
    "\n",
    "listings = listings.drop(['x','y'],axis=1)\n",
    "listings['rating'] = np.where(listings['rating'].isna(),0,listings['rating'])\n",
    "listings['reviews'] = np.where(listings['reviews'].isna(),0,listings['reviews'])\n",
    "\n",
    "# clean values\n",
    "listings['guests'] = listings['guests'].str.replace(' guests| guest', '')\n",
    "listings['bedrooms'] = listings['bedrooms'].str.replace(' bedrooms| bedroom','')\n",
    "listings['beds'] = listings['beds'].str.replace(' beds|bed','')\n",
    "listings['bedrooms'] = listings['bedrooms'].str.replace('Studio','0')\n",
    "listings['baths'] = listings['baths'].str.replace(' baths| bath','')\n"
   ]
  },
  {
   "cell_type": "code",
   "execution_count": 218,
   "metadata": {},
   "outputs": [],
   "source": [
    "# listings.info()"
   ]
  },
  {
   "cell_type": "code",
   "execution_count": 219,
   "metadata": {},
   "outputs": [
    {
     "data": {
      "text/html": [
       "<div>\n",
       "<style scoped>\n",
       "    .dataframe tbody tr th:only-of-type {\n",
       "        vertical-align: middle;\n",
       "    }\n",
       "\n",
       "    .dataframe tbody tr th {\n",
       "        vertical-align: top;\n",
       "    }\n",
       "\n",
       "    .dataframe thead th {\n",
       "        text-align: right;\n",
       "    }\n",
       "</style>\n",
       "<table border=\"1\" class=\"dataframe\">\n",
       "  <thead>\n",
       "    <tr style=\"text-align: right;\">\n",
       "      <th></th>\n",
       "      <th>title</th>\n",
       "      <th>url</th>\n",
       "      <th>info</th>\n",
       "      <th>description</th>\n",
       "      <th>details</th>\n",
       "      <th>is_superhost</th>\n",
       "      <th>price</th>\n",
       "      <th>total_reviews</th>\n",
       "      <th>review_score</th>\n",
       "      <th>total_amenities</th>\n",
       "      <th>...</th>\n",
       "      <th>bedrooms</th>\n",
       "      <th>beds</th>\n",
       "      <th>baths</th>\n",
       "      <th>wifi</th>\n",
       "      <th>kitchen</th>\n",
       "      <th>parking</th>\n",
       "      <th>pool</th>\n",
       "      <th>price($)</th>\n",
       "      <th>rating</th>\n",
       "      <th>reviews</th>\n",
       "    </tr>\n",
       "  </thead>\n",
       "  <tbody>\n",
       "    <tr>\n",
       "      <th>0</th>\n",
       "      <td>Entire apartment in Nairobi</td>\n",
       "      <td>NaN</td>\n",
       "      <td>NaN</td>\n",
       "      <td>Cozy 2 bedroom near popular restaurant</td>\n",
       "      <td>[4 guests, 2 bedrooms, 3 beds, 2.5 baths, Wifi...</td>\n",
       "      <td>yes</td>\n",
       "      <td>[$52]</td>\n",
       "      <td>[]</td>\n",
       "      <td>[]</td>\n",
       "      <td>7</td>\n",
       "      <td>...</td>\n",
       "      <td>2</td>\n",
       "      <td>3</td>\n",
       "      <td>2.5</td>\n",
       "      <td>Wifi</td>\n",
       "      <td>Kitchen</td>\n",
       "      <td>Free parking</td>\n",
       "      <td>NaN</td>\n",
       "      <td>52</td>\n",
       "      <td>0</td>\n",
       "      <td>0</td>\n",
       "    </tr>\n",
       "    <tr>\n",
       "      <th>1</th>\n",
       "      <td>Entire apartment in Nairobi</td>\n",
       "      <td>NaN</td>\n",
       "      <td>NaN</td>\n",
       "      <td>Brookview Kilimani 1 Bedroom (Monthly)</td>\n",
       "      <td>[2 guests, 1 bedroom, 1 bed, 1 bath, Wifi, Kit...</td>\n",
       "      <td>yes</td>\n",
       "      <td>[$22]</td>\n",
       "      <td>[]</td>\n",
       "      <td>[]</td>\n",
       "      <td>8</td>\n",
       "      <td>...</td>\n",
       "      <td>1</td>\n",
       "      <td>1</td>\n",
       "      <td>1</td>\n",
       "      <td>Wifi</td>\n",
       "      <td>Kitchen</td>\n",
       "      <td>Free parking</td>\n",
       "      <td>Pool</td>\n",
       "      <td>22</td>\n",
       "      <td>0</td>\n",
       "      <td>0</td>\n",
       "    </tr>\n",
       "    <tr>\n",
       "      <th>2</th>\n",
       "      <td>Entire guesthouse in Nairobi</td>\n",
       "      <td>NaN</td>\n",
       "      <td>NaN</td>\n",
       "      <td>Kileleshwa, 1 bedroom private cottage</td>\n",
       "      <td>[2 guests, 1 bedroom, 2 beds, 1 bath, Wifi, Ki...</td>\n",
       "      <td>no</td>\n",
       "      <td>[$10]</td>\n",
       "      <td>[ (, 5, )]</td>\n",
       "      <td>[5.0]</td>\n",
       "      <td>7</td>\n",
       "      <td>...</td>\n",
       "      <td>1</td>\n",
       "      <td>2</td>\n",
       "      <td>1</td>\n",
       "      <td>Wifi</td>\n",
       "      <td>Kitchen</td>\n",
       "      <td>Free parking</td>\n",
       "      <td>NaN</td>\n",
       "      <td>10</td>\n",
       "      <td>5.0</td>\n",
       "      <td>5</td>\n",
       "    </tr>\n",
       "  </tbody>\n",
       "</table>\n",
       "<p>3 rows × 21 columns</p>\n",
       "</div>"
      ],
      "text/plain": [
       "                          title  url  info  \\\n",
       "0   Entire apartment in Nairobi  NaN   NaN   \n",
       "1   Entire apartment in Nairobi  NaN   NaN   \n",
       "2  Entire guesthouse in Nairobi  NaN   NaN   \n",
       "\n",
       "                              description  \\\n",
       "0  Cozy 2 bedroom near popular restaurant   \n",
       "1  Brookview Kilimani 1 Bedroom (Monthly)   \n",
       "2   Kileleshwa, 1 bedroom private cottage   \n",
       "\n",
       "                                             details is_superhost  price  \\\n",
       "0  [4 guests, 2 bedrooms, 3 beds, 2.5 baths, Wifi...          yes  [$52]   \n",
       "1  [2 guests, 1 bedroom, 1 bed, 1 bath, Wifi, Kit...          yes  [$22]   \n",
       "2  [2 guests, 1 bedroom, 2 beds, 1 bath, Wifi, Ki...           no  [$10]   \n",
       "\n",
       "  total_reviews review_score  total_amenities  ... bedrooms beds baths  wifi  \\\n",
       "0            []           []                7  ...        2    3   2.5  Wifi   \n",
       "1            []           []                8  ...        1   1      1  Wifi   \n",
       "2    [ (, 5, )]        [5.0]                7  ...        1    2     1  Wifi   \n",
       "\n",
       "   kitchen       parking  pool price($)  rating reviews  \n",
       "0  Kitchen  Free parking   NaN       52       0       0  \n",
       "1  Kitchen  Free parking  Pool       22       0       0  \n",
       "2  Kitchen  Free parking   NaN       10     5.0       5  \n",
       "\n",
       "[3 rows x 21 columns]"
      ]
     },
     "execution_count": 219,
     "metadata": {},
     "output_type": "execute_result"
    }
   ],
   "source": [
    "listings.head(3)"
   ]
  },
  {
   "cell_type": "code",
   "execution_count": 222,
   "metadata": {},
   "outputs": [
    {
     "data": {
      "text/plain": [
       "array(['2.5', '1', '1.5', '2', '1 shared', '1 private', '3.5', '3',\n",
       "       '1.5 shared', '4', 'Half-bath'], dtype=object)"
      ]
     },
     "execution_count": 222,
     "metadata": {},
     "output_type": "execute_result"
    }
   ],
   "source": [
    "listings['baths'].unique()"
   ]
  },
  {
   "cell_type": "code",
   "execution_count": 208,
   "metadata": {},
   "outputs": [
    {
     "data": {
      "text/html": [
       "<div>\n",
       "<style scoped>\n",
       "    .dataframe tbody tr th:only-of-type {\n",
       "        vertical-align: middle;\n",
       "    }\n",
       "\n",
       "    .dataframe tbody tr th {\n",
       "        vertical-align: top;\n",
       "    }\n",
       "\n",
       "    .dataframe thead th {\n",
       "        text-align: right;\n",
       "    }\n",
       "</style>\n",
       "<table border=\"1\" class=\"dataframe\">\n",
       "  <thead>\n",
       "    <tr style=\"text-align: right;\">\n",
       "      <th></th>\n",
       "      <th>title</th>\n",
       "      <th>url</th>\n",
       "      <th>info</th>\n",
       "      <th>description</th>\n",
       "      <th>details</th>\n",
       "      <th>is_superhost</th>\n",
       "      <th>price</th>\n",
       "      <th>total_reviews</th>\n",
       "      <th>review_score</th>\n",
       "      <th>total_amenities</th>\n",
       "      <th>...</th>\n",
       "      <th>bedrooms</th>\n",
       "      <th>beds</th>\n",
       "      <th>baths</th>\n",
       "      <th>wifi</th>\n",
       "      <th>kitchen</th>\n",
       "      <th>parking</th>\n",
       "      <th>pool</th>\n",
       "      <th>price($)</th>\n",
       "      <th>rating</th>\n",
       "      <th>reviews</th>\n",
       "    </tr>\n",
       "  </thead>\n",
       "  <tbody>\n",
       "    <tr>\n",
       "      <th>260</th>\n",
       "      <td>Private room in Nairobi</td>\n",
       "      <td>NaN</td>\n",
       "      <td>NaN</td>\n",
       "      <td>Private Room in a Cozy Apartment in Westlands.</td>\n",
       "      <td>[1 guest, 1 bedroom, 1 shared bath, Wifi, Kitc...</td>\n",
       "      <td>no</td>\n",
       "      <td>[$11]</td>\n",
       "      <td>[]</td>\n",
       "      <td>[]</td>\n",
       "      <td>6</td>\n",
       "      <td>...</td>\n",
       "      <td>1</td>\n",
       "      <td>1 shared bath</td>\n",
       "      <td>Wifi</td>\n",
       "      <td>Kitchen</td>\n",
       "      <td>Free parking</td>\n",
       "      <td>NaN</td>\n",
       "      <td>NaN</td>\n",
       "      <td>11</td>\n",
       "      <td>0</td>\n",
       "      <td>0</td>\n",
       "    </tr>\n",
       "  </tbody>\n",
       "</table>\n",
       "<p>1 rows × 21 columns</p>\n",
       "</div>"
      ],
      "text/plain": [
       "                       title  url  info  \\\n",
       "260  Private room in Nairobi  NaN   NaN   \n",
       "\n",
       "                                        description  \\\n",
       "260  Private Room in a Cozy Apartment in Westlands.   \n",
       "\n",
       "                                               details is_superhost  price  \\\n",
       "260  [1 guest, 1 bedroom, 1 shared bath, Wifi, Kitc...           no  [$11]   \n",
       "\n",
       "    total_reviews review_score  total_amenities  ... bedrooms           beds  \\\n",
       "260            []           []                6  ...        1  1 shared bath   \n",
       "\n",
       "    baths     wifi       kitchen parking pool price($)  rating reviews  \n",
       "260  Wifi  Kitchen  Free parking     NaN  NaN       11       0       0  \n",
       "\n",
       "[1 rows x 21 columns]"
      ]
     },
     "execution_count": 208,
     "metadata": {},
     "output_type": "execute_result"
    }
   ],
   "source": [
    "listings[listings['beds']=='1 shared bath']"
   ]
  },
  {
   "cell_type": "code",
   "execution_count": 147,
   "metadata": {
    "scrolled": false
   },
   "outputs": [
    {
     "data": {
      "text/plain": [
       "no    280\n",
       "Name: is_superhost, dtype: int64"
      ]
     },
     "execution_count": 147,
     "metadata": {},
     "output_type": "execute_result"
    }
   ],
   "source": [
    "listings['is_superhost'].value_counts()"
   ]
  },
  {
   "cell_type": "code",
   "execution_count": 149,
   "metadata": {},
   "outputs": [
    {
     "data": {
      "text/plain": [
       "count    280.000000\n",
       "mean      32.207143\n",
       "std       16.548396\n",
       "min        8.000000\n",
       "25%       21.000000\n",
       "50%       28.000000\n",
       "75%       40.250000\n",
       "max      101.000000\n",
       "Name: price($), dtype: float64"
      ]
     },
     "execution_count": 149,
     "metadata": {},
     "output_type": "execute_result"
    }
   ],
   "source": [
    "listings['price($)'].describe()"
   ]
  },
  {
   "cell_type": "code",
   "execution_count": 18,
   "metadata": {},
   "outputs": [
    {
     "data": {
      "text/plain": [
       "array([7, 8, 6, 4, 5])"
      ]
     },
     "execution_count": 18,
     "metadata": {},
     "output_type": "execute_result"
    }
   ],
   "source": [
    "listings['total_amenities'].unique()"
   ]
  },
  {
   "cell_type": "code",
   "execution_count": 35,
   "metadata": {},
   "outputs": [
    {
     "data": {
      "text/plain": [
       "[['2 guests', 'Studio', '1 bed', '1 bath', 'Wifi', 'Kitchen'],\n",
       " ['2 guests', '1 bedroom', '1 bed', '1 bath', 'Wifi', 'Kitchen'],\n",
       " ['2 guests', 'Studio', '1 bed', '1 bath', 'Wifi', 'Kitchen'],\n",
       " ['4 guests', '2 bedrooms', '2 beds', '1.5 baths', 'Wifi', 'Kitchen'],\n",
       " ['2 guests', 'Studio', '1 bed', '1 bath', 'Wifi', 'Kitchen'],\n",
       " ['2 guests', 'Studio', '2 beds', '1 bath', 'Wifi', 'Free parking'],\n",
       " ['2 guests', '1 bedroom', '1 bed', '1 bath', 'Wifi', 'Free parking'],\n",
       " ['2 guests', 'Studio', '1 bed', '1.5 baths', 'Wifi', 'Kitchen'],\n",
       " ['3 guests', 'Studio', '2 beds', '1 bath', 'Wifi', 'Kitchen'],\n",
       " ['2 guests', '1 bedroom', '1 bed', '1 bath', 'Wifi', 'Kitchen'],\n",
       " ['2 guests', '1 bedroom', '1 bed', '1 bath', 'Wifi', 'Free parking'],\n",
       " ['2 guests', 'Studio', '1 bed', '1 bath', 'Wifi', 'Kitchen'],\n",
       " ['2 guests', '1 bedroom', '1 bed', '1 bath', 'Wifi', 'Kitchen'],\n",
       " ['2 guests', 'Studio', '1 bath', 'Wifi', 'Kitchen', 'Free parking'],\n",
       " ['2 guests', 'Studio', '1 bed', '1 bath', 'Wifi', 'Kitchen'],\n",
       " ['1 guest', '1 bedroom', '1 shared bath', 'Wifi', 'Kitchen', 'Free parking'],\n",
       " ['2 guests', 'Studio', '1 bed', '1 bath', 'Wifi', 'Free parking'],\n",
       " ['2 guests', 'Studio', '1 bed', '1 bath', 'Wifi', 'Free parking']]"
      ]
     },
     "execution_count": 35,
     "metadata": {},
     "output_type": "execute_result"
    }
   ],
   "source": [
    "vals = [x for x in listings[listings['total_amenities']==6]['details']]\n",
    "vals"
   ]
  },
  {
   "cell_type": "code",
   "execution_count": 5,
   "metadata": {},
   "outputs": [
    {
     "data": {
      "text/plain": [
       "['2 guests', '1 bedroom', '1 bed', '1 bath', 'Wifi', 'Kitchen', 'Free parking']"
      ]
     },
     "execution_count": 5,
     "metadata": {},
     "output_type": "execute_result"
    }
   ],
   "source": [
    "listings['details'][10]"
   ]
  },
  {
   "cell_type": "code",
   "execution_count": 6,
   "metadata": {},
   "outputs": [
    {
     "data": {
      "text/plain": [
       "['3 guests',\n",
       " '2 bedrooms',\n",
       " '3 beds',\n",
       " '1.5 baths',\n",
       " 'Wifi',\n",
       " 'Kitchen',\n",
       " 'Free parking']"
      ]
     },
     "execution_count": 6,
     "metadata": {},
     "output_type": "execute_result"
    }
   ],
   "source": [
    "listings['details'][20]"
   ]
  },
  {
   "cell_type": "code",
   "execution_count": 10,
   "metadata": {},
   "outputs": [
    {
     "data": {
      "text/plain": [
       "7"
      ]
     },
     "execution_count": 10,
     "metadata": {},
     "output_type": "execute_result"
    }
   ],
   "source": [
    "len(listings['details'][100])"
   ]
  },
  {
   "cell_type": "code",
   "execution_count": 8,
   "metadata": {},
   "outputs": [
    {
     "data": {
      "text/plain": [
       "['2 guests', '1 bedroom', '1 bed', '1 bath', 'Wifi', 'Kitchen', 'Free parking']"
      ]
     },
     "execution_count": 8,
     "metadata": {},
     "output_type": "execute_result"
    }
   ],
   "source": [
    "listings['details'][150]"
   ]
  },
  {
   "cell_type": "code",
   "execution_count": 9,
   "metadata": {},
   "outputs": [
    {
     "data": {
      "text/plain": [
       "['2 guests',\n",
       " 'Studio',\n",
       " '1 bed',\n",
       " '1 bath',\n",
       " 'Wifi',\n",
       " 'Kitchen',\n",
       " 'Free parking',\n",
       " 'Pool']"
      ]
     },
     "execution_count": 9,
     "metadata": {},
     "output_type": "execute_result"
    }
   ],
   "source": [
    "listings['details'][200]"
   ]
  },
  {
   "cell_type": "code",
   "execution_count": null,
   "metadata": {},
   "outputs": [],
   "source": []
  }
 ],
 "metadata": {
  "kernelspec": {
   "display_name": "Python 3",
   "language": "python",
   "name": "python3"
  },
  "language_info": {
   "codemirror_mode": {
    "name": "ipython",
    "version": 3
   },
   "file_extension": ".py",
   "mimetype": "text/x-python",
   "name": "python",
   "nbconvert_exporter": "python",
   "pygments_lexer": "ipython3",
   "version": "3.8.3"
  }
 },
 "nbformat": 4,
 "nbformat_minor": 4
}
